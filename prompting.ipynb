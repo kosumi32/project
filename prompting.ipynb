{
 "cells": [
  {
   "cell_type": "code",
   "execution_count": 1,
   "metadata": {},
   "outputs": [
    {
     "name": "stdout",
     "output_type": "stream",
     "text": [
      "Note: you may need to restart the kernel to use updated packages.\n"
     ]
    }
   ],
   "source": [
    "pip install -q -U google-generativeai"
   ]
  },
  {
   "cell_type": "code",
   "execution_count": 51,
   "metadata": {},
   "outputs": [],
   "source": [
    "# Necessary packages\n",
    "import pathlib\n",
    "import textwrap\n",
    "\n",
    "import google.generativeai as genai\n",
    "\n",
    "from IPython.display import display\n",
    "from IPython.display import Markdown\n",
    "\n",
    "\n",
    "def to_markdown(text):\n",
    "    # bullet symbol • -> *\n",
    "  text = text.replace('•', '  *')\n",
    "    # wraps text starting with > -> blockquote in Markdown\n",
    "    # predicate=lambda _: True- apply to everyline\n",
    "  return Markdown(textwrap.indent(text, '> ', predicate=lambda _: True))\n",
    "\n",
    "# Used to securely store your API key\n",
    "# from google.colab import userdata"
   ]
  },
  {
   "cell_type": "code",
   "execution_count": 52,
   "metadata": {},
   "outputs": [],
   "source": [
    "from dotenv import load_dotenv\n",
    "import os\n",
    "\n",
    "load_dotenv(\"geminiAPI.env\")\n",
    "\n",
    "GOOGLE_API_KEY = os.getenv(\"GOOGLE_API_KEY\")"
   ]
  },
  {
   "cell_type": "code",
   "execution_count": 53,
   "metadata": {},
   "outputs": [
    {
     "name": "stdout",
     "output_type": "stream",
     "text": [
      "models/gemini-1.0-pro-latest\n",
      "models/gemini-1.0-pro\n",
      "models/gemini-pro\n",
      "models/gemini-1.0-pro-001\n",
      "models/gemini-1.0-pro-vision-latest\n",
      "models/gemini-pro-vision\n",
      "models/gemini-1.5-pro-latest\n",
      "models/gemini-1.5-pro-001\n",
      "models/gemini-1.5-pro-002\n",
      "models/gemini-1.5-pro\n",
      "models/gemini-1.5-pro-exp-0801\n",
      "models/gemini-1.5-pro-exp-0827\n",
      "models/gemini-1.5-flash-latest\n",
      "models/gemini-1.5-flash-001\n",
      "models/gemini-1.5-flash-001-tuning\n",
      "models/gemini-1.5-flash\n",
      "models/gemini-1.5-flash-exp-0827\n",
      "models/gemini-1.5-flash-002\n",
      "models/gemini-1.5-flash-8b\n",
      "models/gemini-1.5-flash-8b-001\n",
      "models/gemini-1.5-flash-8b-latest\n",
      "models/gemini-1.5-flash-8b-exp-0827\n",
      "models/gemini-1.5-flash-8b-exp-0924\n",
      "models/gemini-2.0-flash-exp\n",
      "models/gemini-exp-1206\n",
      "models/gemini-exp-1121\n",
      "models/gemini-exp-1114\n",
      "models/gemini-2.0-flash-thinking-exp\n",
      "models/gemini-2.0-flash-thinking-exp-1219\n",
      "models/learnlm-1.5-pro-experimental\n"
     ]
    }
   ],
   "source": [
    "if not GOOGLE_API_KEY:\n",
    "    print(\"Error: API key not found.\")\n",
    "    \n",
    "genai.configure(api_key=GOOGLE_API_KEY)\n",
    "\n",
    "# Available models\n",
    "for m in genai.list_models():\n",
    "  if 'generateContent' in m.supported_generation_methods:\n",
    "    print(m.name)"
   ]
  },
  {
   "cell_type": "code",
   "execution_count": 54,
   "metadata": {},
   "outputs": [],
   "source": [
    "model = genai.GenerativeModel(\"gemini-pro\")\n"
   ]
  },
  {
   "cell_type": "code",
   "execution_count": 55,
   "metadata": {},
   "outputs": [
    {
     "data": {
      "text/markdown": [
       "> **Appetizers:**\n",
       "> \n",
       "> * Bruschetta with fresh tomatoes, basil, and balsamic glaze\n",
       "> * Caprese skewers with fresh mozzarella, tomatoes, and basil\n",
       "> * Spinach and artichoke dip with tortilla chips or breadsticks\n",
       "> * Crab cakes with remoulade sauce\n",
       "> * Stuffed mushrooms with crab, shrimp, or spinach\n",
       "> \n",
       "> **Main Courses:**\n",
       "> \n",
       "> * **Seafood:**\n",
       ">     * Grilled salmon with lemon-butter sauce\n",
       ">     * Pan-seared scallops with mashed potatoes and asparagus\n",
       ">     * Shrimp scampi with linguine\n",
       ">     * Fish and chips with tartar sauce\n",
       ">     * Lobster roll with buttered brioche bun\n",
       "> * **Meat:**\n",
       ">     * Grilled steak with roasted vegetables and mashed potatoes\n",
       ">     * Braised short ribs with polenta\n",
       ">     * Roasted chicken with lemon and herbs\n",
       ">     * Italian meatballs with spaghetti\n",
       ">     * Burgers with your favorite toppings\n",
       "> * **Vegetarian:**\n",
       ">     * Vegetarian chili with cornbread\n",
       ">     * Vegetable stir-fry with brown rice\n",
       ">     * Quinoa salad with roasted vegetables and feta cheese\n",
       ">     * Grilled vegetable skewers with hummus\n",
       ">     * Lentil soup with crusty bread\n",
       "> \n",
       "> **Sides:**\n",
       "> \n",
       "> * Roasted vegetables (broccoli, carrots, cauliflower, etc.)\n",
       "> * Mashed potatoes with gravy\n",
       "> * Sweet potato fries\n",
       "> * Caesar salad\n",
       "> * Greek salad\n",
       "> \n",
       "> **Desserts:**\n",
       "> \n",
       "> * Chocolate cake with vanilla ice cream\n",
       "> * Apple pie with whipped cream\n",
       "> * Crème brûlée\n",
       "> * Tiramisu\n",
       "> * Cheesecake with fruit compote"
      ],
      "text/plain": [
       "<IPython.core.display.Markdown object>"
      ]
     },
     "execution_count": 55,
     "metadata": {},
     "output_type": "execute_result"
    }
   ],
   "source": [
    "# trying API call\n",
    "response = model.generate_content(\"Give me some food recommendations\")\n",
    "\n",
    "to_markdown(response.text)"
   ]
  },
  {
   "cell_type": "code",
   "execution_count": 35,
   "metadata": {},
   "outputs": [
    {
     "name": "stdout",
     "output_type": "stream",
     "text": [
      "[{'ingredients': ['tomato', 'onion', 'cheese'], 'recommended_food': ''}, {'ingredients': ['chicken', 'rice', 'soy sauce'], 'recommended_food': ''}, {'ingredients': ['flour', 'egg', 'milk', 'sugar'], 'recommended_food': ''}]\n"
     ]
    }
   ],
   "source": [
    "# ingredients_list = [\n",
    "#     [\"tomato\", \"onion\", \"cheese\"],  # User 1 ingredients\n",
    "#     [\"chicken\", \"rice\", \"soy sauce\"],  # User 2 ingredients\n",
    "#     [\"flour\", \"egg\", \"milk\", \"sugar\"],  # User 3 ingredients\n",
    "# ]\n",
    "\n",
    "# json_data = [{\"ingredients\": ingredients, \"recommended_food\": \"\"} for ingredients in ingredients_list]\n",
    "\n",
    "# print(json_data)\n",
    "\n"
   ]
  },
  {
   "cell_type": "code",
   "execution_count": 36,
   "metadata": {},
   "outputs": [
    {
     "name": "stdout",
     "output_type": "stream",
     "text": [
      "[\n",
      "    {\n",
      "        \"ingredients\": [\n",
      "            \"tomato\",\n",
      "            \"onion\",\n",
      "            \"cheese\"\n",
      "        ],\n",
      "        \"recommended_food\": \"\"\n",
      "    },\n",
      "    {\n",
      "        \"ingredients\": [\n",
      "            \"chicken\",\n",
      "            \"rice\",\n",
      "            \"soy sauce\"\n",
      "        ],\n",
      "        \"recommended_food\": \"\"\n",
      "    },\n",
      "    {\n",
      "        \"ingredients\": [\n",
      "            \"flour\",\n",
      "            \"egg\",\n",
      "            \"milk\",\n",
      "            \"sugar\"\n",
      "        ],\n",
      "        \"recommended_food\": \"\"\n",
      "    }\n",
      "]\n"
     ]
    }
   ],
   "source": [
    "# import json\n",
    "\n",
    "# json_str = json.dumps(json_data, indent=4)\n",
    "\n",
    "# print(json_str)"
   ]
  },
  {
   "cell_type": "code",
   "execution_count": 56,
   "metadata": {},
   "outputs": [],
   "source": [
    "import time\n",
    "import json\n",
    "\n",
    "def gemini_food_recommendation(ingredients_list):\n",
    "    \"\"\"\n",
    "    This function recommends food based on user-provided ingredients.\n",
    "    \n",
    "    Steps:\n",
    "    1. Convert the input ingredients to a JSON format.\n",
    "    2. Prepare a Gemini Prompt for generating food recommendations.\n",
    "    3. Call the Gemini API and process the response.\n",
    "    \"\"\"\n",
    "    \n",
    "    # Create JSON structure for ingredients and recommendations\n",
    "    json_data = [{\"ingredients\": ingredients, \"recommended_food\": \"\", \"recipe\": \"\"} for ingredients in ingredients_list]\n",
    "    \n",
    "    # Convert JSON structure to string for embedding in the prompt\n",
    "    json_str = json.dumps(json_data, indent=4)\n",
    "    \n",
    "    # Gemini Prompt\n",
    "    prompt = f\"\"\"\n",
    "    You are a food critic, skilled at recommending dishes based on available ingredients. \n",
    "    Your task is to process the user's input (ingredients) and provide suitable dish recommendations as well as suggesting the recipe.\n",
    "    The user input is in a JSON format between three backticks below. \n",
    "    Update the \"recommended_food\" field in the JSON with your suggestions. \n",
    "    Update the \"recipe\" field with the recipe for the recommended food.\n",
    "\n",
    "    Instructions:\n",
    "    - Only return the updated JSON code as output.\n",
    "    - If the user input violates API policies, set \"recommended_food\" to \"No food suggestion available\".\n",
    "\n",
    "    ```\n",
    "    {json_str}\n",
    "    ```\n",
    "    \"\"\"\n",
    "    \n",
    "    print(\"Generated Prompt:\\n\", prompt)  # For debugging purposes\n",
    "    \n",
    "    # Simulate API Call\n",
    "    response = model.generate_content(prompt)\n",
    "    time.sleep(5)  # Simulate API latency\n",
    "    \n",
    "    return response\n",
    "\n"
   ]
  },
  {
   "cell_type": "code",
   "execution_count": null,
   "metadata": {},
   "outputs": [],
   "source": [
    "# # Getting input from the user\n",
    "# ingredient_input = input(\"Enter ingredients separated by space: \").split()\n",
    "\n",
    "# response = gemini_food_recommendation([ingredient_input])\n",
    "\n",
    "# # Example response processing\n",
    "# print(\"Gemini API Response:\\n\", response)"
   ]
  },
  {
   "cell_type": "code",
   "execution_count": 57,
   "metadata": {},
   "outputs": [
    {
     "name": "stdout",
     "output_type": "stream",
     "text": [
      "Generated Prompt:\n",
      " \n",
      "    You are a food critic, skilled at recommending dishes based on available ingredients. \n",
      "    Your task is to process the user's input (ingredients) and provide suitable dish recommendations as well as suggesting the recipe.\n",
      "    The user input is in a JSON format between three backticks below. \n",
      "    Update the \"recommended_food\" field in the JSON with your suggestions. \n",
      "    Update the \"recipe\" field with the recipe for the recommended food.\n",
      "\n",
      "    Instructions:\n",
      "    - Only return the updated JSON code as output.\n",
      "    - If the user input violates API policies, set \"recommended_food\" to \"No food suggestion available\".\n",
      "\n",
      "    ```\n",
      "    [\n",
      "    {\n",
      "        \"ingredients\": [\n",
      "            \"apple\",\n",
      "            \"banana\",\n",
      "            \"orange\",\n",
      "            \"grapes\"\n",
      "        ],\n",
      "        \"recommended_food\": \"\",\n",
      "        \"recipe\": \"\"\n",
      "    },\n",
      "    {\n",
      "        \"ingredients\": [\n",
      "            \"lettuce\",\n",
      "            \"cucumber\",\n",
      "            \"olive oil\",\n",
      "            \"vinegar\"\n",
      "        ],\n",
      "        \"recommended_food\": \"\",\n",
      "        \"recipe\": \"\"\n",
      "    },\n",
      "    {\n",
      "        \"ingredients\": [\n",
      "            \"bread\",\n",
      "            \"butter\",\n",
      "            \"jam\"\n",
      "        ],\n",
      "        \"recommended_food\": \"\",\n",
      "        \"recipe\": \"\"\n",
      "    }\n",
      "]\n",
      "    ```\n",
      "    \n",
      "Gemini API Response:\n",
      " response:\n",
      "GenerateContentResponse(\n",
      "    done=True,\n",
      "    iterator=None,\n",
      "    result=protos.GenerateContentResponse({\n",
      "      \"candidates\": [\n",
      "        {\n",
      "          \"content\": {\n",
      "            \"parts\": [\n",
      "              {\n",
      "                \"text\": \"```\\n[\\n    {\\n        \\\"ingredients\\\": [\\n            \\\"apple\\\",\\n            \\\"banana\\\",\\n            \\\"orange\\\",\\n            \\\"grapes\\\"\\n        ],\\n        \\\"recommended_food\\\": \\\"Fruit Salad\\\",\\n        \\\"recipe\\\": \\\"Combine all of the ingredients in a large bowl and stir until combined. Serve immediately.\\\"\\n    },\\n    {\\n        \\\"ingredients\\\": [\\n            \\\"lettuce\\\",\\n            \\\"cucumber\\\",\\n            \\\"olive oil\\\",\\n            \\\"vinegar\\\"\\n        ],\\n        \\\"recommended_food\\\": \\\"Salad\\\",\\n        \\\"recipe\\\": \\\"Combine all of the ingredients in a large bowl and stir until combined. Serve immediately.\\\"\\n    },\\n    {\\n        \\\"ingredients\\\": [\\n            \\\"bread\\\",\\n            \\\"butter\\\",\\n            \\\"jam\\\"\\n        ],\\n        \\\"recommended_food\\\": \\\"Toast with Butter and Jam\\\",\\n        \\\"recipe\\\": \\\"Spread butter on the toasted bread and top with jam. Serve immediately.\\\"\\n    }\\n]\\n```\"\n",
      "              }\n",
      "            ],\n",
      "            \"role\": \"model\"\n",
      "          },\n",
      "          \"finish_reason\": \"STOP\",\n",
      "          \"index\": 0,\n",
      "          \"safety_ratings\": [\n",
      "            {\n",
      "              \"category\": \"HARM_CATEGORY_SEXUALLY_EXPLICIT\",\n",
      "              \"probability\": \"NEGLIGIBLE\"\n",
      "            },\n",
      "            {\n",
      "              \"category\": \"HARM_CATEGORY_HATE_SPEECH\",\n",
      "              \"probability\": \"NEGLIGIBLE\"\n",
      "            },\n",
      "            {\n",
      "              \"category\": \"HARM_CATEGORY_HARASSMENT\",\n",
      "              \"probability\": \"NEGLIGIBLE\"\n",
      "            },\n",
      "            {\n",
      "              \"category\": \"HARM_CATEGORY_DANGEROUS_CONTENT\",\n",
      "              \"probability\": \"NEGLIGIBLE\"\n",
      "            }\n",
      "          ]\n",
      "        }\n",
      "      ],\n",
      "      \"usage_metadata\": {\n",
      "        \"prompt_token_count\": 296,\n",
      "        \"candidates_token_count\": 212,\n",
      "        \"total_token_count\": 508\n",
      "      }\n",
      "    }),\n",
      ")\n"
     ]
    }
   ],
   "source": [
    "ingredients_list = [\n",
    "    [\"apple\", \"banana\", \"orange\", \"grapes\"],  # User 5 ingredients\n",
    "    [\"lettuce\", \"cucumber\", \"olive oil\", \"vinegar\"],  # User 6 ingredients\n",
    "    [\"bread\", \"butter\", \"jam\"],  # User 7 ingredients\n",
    "]\n",
    "\n",
    "response = gemini_food_recommendation(ingredients_list)\n",
    "\n",
    "# Example response processing\n",
    "print(\"Gemini API Response:\\n\", response)"
   ]
  },
  {
   "cell_type": "code",
   "execution_count": 58,
   "metadata": {},
   "outputs": [
    {
     "name": "stdout",
     "output_type": "stream",
     "text": [
      "                               ingredients           recommended_food  \\\n",
      "0          [apple, banana, orange, grapes]                Fruit Salad   \n",
      "1  [lettuce, cucumber, olive oil, vinegar]                      Salad   \n",
      "2                     [bread, butter, jam]  Toast with Butter and Jam   \n",
      "\n",
      "                                              recipe  \n",
      "0  Combine all of the ingredients in a large bowl...  \n",
      "1  Combine all of the ingredients in a large bowl...  \n",
      "2  Spread butter on the toasted bread and top wit...  \n"
     ]
    },
    {
     "name": "stderr",
     "output_type": "stream",
     "text": [
      "C:\\Users\\User\\AppData\\Local\\Temp\\ipykernel_2420\\604735092.py:16: FutureWarning: The frame.append method is deprecated and will be removed from pandas in a future version. Use pandas.concat instead.\n",
      "  df_total = df_total.append(df_temp, ignore_index= True)\n"
     ]
    }
   ],
   "source": [
    "# clean Json\n",
    "import json\n",
    "import pandas as pd\n",
    "\n",
    "# Ini empty DF\n",
    "df_total = pd.DataFrame()\n",
    "\n",
    "for res in response:\n",
    "    # stripping the backticks\n",
    "    json_data = res.text.strip(\"`\")\n",
    "\n",
    "    # Load the cleaned data and convert to DataFrame\n",
    "    data = json.loads(json_data)\n",
    "    df_temp = pd.DataFrame(data)\n",
    "\n",
    "    df_total = df_total.append(df_temp, ignore_index= True)\n",
    "\n",
    "print(df_total)"
   ]
  },
  {
   "cell_type": "code",
   "execution_count": 50,
   "metadata": {},
   "outputs": [
    {
     "data": {
      "text/html": [
       "<div>\n",
       "<style scoped>\n",
       "    .dataframe tbody tr th:only-of-type {\n",
       "        vertical-align: middle;\n",
       "    }\n",
       "\n",
       "    .dataframe tbody tr th {\n",
       "        vertical-align: top;\n",
       "    }\n",
       "\n",
       "    .dataframe thead th {\n",
       "        text-align: right;\n",
       "    }\n",
       "</style>\n",
       "<table border=\"1\" class=\"dataframe\">\n",
       "  <thead>\n",
       "    <tr style=\"text-align: right;\">\n",
       "      <th></th>\n",
       "      <th>ingredients</th>\n",
       "      <th>recommended_food</th>\n",
       "      <th>recipe</th>\n",
       "    </tr>\n",
       "  </thead>\n",
       "  <tbody>\n",
       "    <tr>\n",
       "      <th>0</th>\n",
       "      <td>[apple, banana, orange, grapes]</td>\n",
       "      <td>Fruit salad</td>\n",
       "      <td>Combine all ingredients in a bowl and stir gen...</td>\n",
       "    </tr>\n",
       "    <tr>\n",
       "      <th>1</th>\n",
       "      <td>[lettuce, cucumber, olive oil, vinegar]</td>\n",
       "      <td>Salad</td>\n",
       "      <td>Combine lettuce, cucumber, olive oil, and vine...</td>\n",
       "    </tr>\n",
       "    <tr>\n",
       "      <th>2</th>\n",
       "      <td>[bread, butter, jam]</td>\n",
       "      <td>Toast with butter and jam</td>\n",
       "      <td>Toast bread and spread with butter and jam. En...</td>\n",
       "    </tr>\n",
       "  </tbody>\n",
       "</table>\n",
       "</div>"
      ],
      "text/plain": [
       "                               ingredients           recommended_food  \\\n",
       "0          [apple, banana, orange, grapes]                Fruit salad   \n",
       "1  [lettuce, cucumber, olive oil, vinegar]                      Salad   \n",
       "2                     [bread, butter, jam]  Toast with butter and jam   \n",
       "\n",
       "                                              recipe  \n",
       "0  Combine all ingredients in a bowl and stir gen...  \n",
       "1  Combine lettuce, cucumber, olive oil, and vine...  \n",
       "2  Toast bread and spread with butter and jam. En...  "
      ]
     },
     "execution_count": 50,
     "metadata": {},
     "output_type": "execute_result"
    }
   ],
   "source": []
  },
  {
   "cell_type": "code",
   "execution_count": null,
   "metadata": {},
   "outputs": [],
   "source": []
  }
 ],
 "metadata": {
  "kernelspec": {
   "display_name": "Python 3",
   "language": "python",
   "name": "python3"
  },
  "language_info": {
   "codemirror_mode": {
    "name": "ipython",
    "version": 3
   },
   "file_extension": ".py",
   "mimetype": "text/x-python",
   "name": "python",
   "nbconvert_exporter": "python",
   "pygments_lexer": "ipython3",
   "version": "3.10.8"
  }
 },
 "nbformat": 4,
 "nbformat_minor": 2
}
